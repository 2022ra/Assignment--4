{
 "cells": [
  {
   "cell_type": "code",
   "execution_count": 5,
   "id": "508b42e7",
   "metadata": {},
   "outputs": [
    {
     "name": "stdout",
     "output_type": "stream",
     "text": [
      "10\n",
      "35\n"
     ]
    }
   ],
   "source": [
    "r = lambda a : a + 5\n",
    "print(r(5))\n",
    "r = lambda x, y : x * y\n",
    "print(r(5, 7))"
   ]
  },
  {
   "cell_type": "code",
   "execution_count": null,
   "id": "fb5aa43d",
   "metadata": {},
   "outputs": [],
   "source": []
  }
 ],
 "metadata": {
  "kernelspec": {
   "display_name": "Python 3 (ipykernel)",
   "language": "python",
   "name": "python3"
  },
  "language_info": {
   "codemirror_mode": {
    "name": "ipython",
    "version": 3
   },
   "file_extension": ".py",
   "mimetype": "text/x-python",
   "name": "python",
   "nbconvert_exporter": "python",
   "pygments_lexer": "ipython3",
   "version": "3.10.6"
  }
 },
 "nbformat": 4,
 "nbformat_minor": 5
}
